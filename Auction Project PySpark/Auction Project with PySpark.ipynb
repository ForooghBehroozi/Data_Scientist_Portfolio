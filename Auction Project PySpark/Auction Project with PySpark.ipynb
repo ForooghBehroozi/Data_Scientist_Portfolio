{
 "cells": [
  {
   "cell_type": "code",
   "execution_count": 2,
   "id": "f6f790ad",
   "metadata": {},
   "outputs": [
    {
     "name": "stdout",
     "output_type": "stream",
     "text": [
      "Collecting pyspark\n",
      "  Using cached pyspark-3.4.1.tar.gz (310.8 MB)\n",
      "  Preparing metadata (setup.py): started\n",
      "  Preparing metadata (setup.py): finished with status 'done'\n",
      "Collecting py4j==0.10.9.7\n",
      "  Using cached py4j-0.10.9.7-py2.py3-none-any.whl (200 kB)\n",
      "Building wheels for collected packages: pyspark\n",
      "  Building wheel for pyspark (setup.py): started\n",
      "  Building wheel for pyspark (setup.py): finished with status 'done'\n",
      "  Created wheel for pyspark: filename=pyspark-3.4.1-py2.py3-none-any.whl size=311285432 sha256=9aaff74348639424303dba1881e98eecfd934c3d93f35d950e0e558a82c1ec70\n",
      "  Stored in directory: c:\\users\\14184\\appdata\\local\\pip\\cache\\wheels\\53\\fe\\23\\517784b9d9dadfb82c5676e76483422096aa5dc20d4d602213\n",
      "Successfully built pyspark\n",
      "Installing collected packages: py4j, pyspark\n",
      "Successfully installed py4j-0.10.9.7 pyspark-3.4.1\n"
     ]
    }
   ],
   "source": [
    "!pip install pyspark"
   ]
  },
  {
   "cell_type": "code",
   "execution_count": 1,
   "id": "d9412b26",
   "metadata": {},
   "outputs": [],
   "source": [
    "import pandas as pd\n",
    "from pyspark.sql import SparkSession\n",
    "from pyspark.sql import *"
   ]
  },
  {
   "cell_type": "code",
   "execution_count": 2,
   "id": "3e4bee5f",
   "metadata": {},
   "outputs": [],
   "source": [
    "# Start Spark Session\n",
    "spark = SparkSession.builder.getOrCreate()"
   ]
  },
  {
   "cell_type": "code",
   "execution_count": 29,
   "id": "748f871b",
   "metadata": {},
   "outputs": [],
   "source": [
    "df = spark.read.option(\"header\", True).option('inferSchema',True).csv(\"C:\\My data\\Portfolio 00\\Python\\Auction Project PySpark\\ipl_2022_dataset.csv\")"
   ]
  },
  {
   "cell_type": "code",
   "execution_count": 30,
   "id": "7c3144b6",
   "metadata": {},
   "outputs": [
    {
     "name": "stdout",
     "output_type": "stream",
     "text": [
      "+---+---------------+----------+-----------+---------------+---------------+----------+--------------+\n",
      "|_c0|         Player|Base Price|       TYPE|COST IN ₹ (CR.)|Cost IN $ (000)|2021 Squad|          Team|\n",
      "+---+---------------+----------+-----------+---------------+---------------+----------+--------------+\n",
      "|  0|    Rashid Khan|Draft Pick|     BOWLER|           15.0|         1950.0|       SRH|Gujarat Titans|\n",
      "|  1|  Hardik Pandya|Draft Pick|ALL-ROUNDER|           15.0|         1950.0|        MI|Gujarat Titans|\n",
      "|  2|Lockie Ferguson|      2 Cr|     BOWLER|           10.0|         1300.0|       KKR|Gujarat Titans|\n",
      "|  3|  Rahul Tewatia|   40 Lakh|ALL-ROUNDER|            9.0|         1170.0|        RR|Gujarat Titans|\n",
      "|  4|   Shubman Gill|Draft Pick|     BATTER|            8.0|         1040.0|       KKR|Gujarat Titans|\n",
      "+---+---------------+----------+-----------+---------------+---------------+----------+--------------+\n",
      "only showing top 5 rows\n",
      "\n"
     ]
    }
   ],
   "source": [
    "df.show(5)"
   ]
  },
  {
   "cell_type": "code",
   "execution_count": 31,
   "id": "08960fbc",
   "metadata": {},
   "outputs": [
    {
     "name": "stdout",
     "output_type": "stream",
     "text": [
      "root\n",
      " |-- _c0: integer (nullable = true)\n",
      " |-- Player: string (nullable = true)\n",
      " |-- Base Price: string (nullable = true)\n",
      " |-- TYPE: string (nullable = true)\n",
      " |-- COST IN ₹ (CR.): double (nullable = true)\n",
      " |-- Cost IN $ (000): double (nullable = true)\n",
      " |-- 2021 Squad: string (nullable = true)\n",
      " |-- Team: string (nullable = true)\n",
      "\n"
     ]
    }
   ],
   "source": [
    "df.printSchema()"
   ]
  },
  {
   "cell_type": "code",
   "execution_count": 32,
   "id": "1cc5834e",
   "metadata": {},
   "outputs": [
    {
     "name": "stdout",
     "output_type": "stream",
     "text": [
      "Rows:  633\n",
      "Columns:  8\n"
     ]
    }
   ],
   "source": [
    "# Total numbers of rows and columns\n",
    "\n",
    "print('Rows: ', df.count())\n",
    "\n",
    "print('Columns: ', len(df.columns))"
   ]
  },
  {
   "cell_type": "code",
   "execution_count": 33,
   "id": "ed548294",
   "metadata": {},
   "outputs": [
    {
     "data": {
      "text/plain": [
       "[Row(Base Price='20 Lakh'),\n",
       " Row(Base Price='2 Cr'),\n",
       " Row(Base Price='Draft Pick'),\n",
       " Row(Base Price='40 Lakh'),\n",
       " Row(Base Price='30 Lakh'),\n",
       " Row(Base Price='1 Cr'),\n",
       " Row(Base Price='50 Lakh'),\n",
       " Row(Base Price='1.5 Cr'),\n",
       " Row(Base Price='75 Lakh'),\n",
       " Row(Base Price='Retained')]"
      ]
     },
     "execution_count": 33,
     "metadata": {},
     "output_type": "execute_result"
    }
   ],
   "source": [
    "# Unique Values in 'Base Price' Columns\n",
    "\n",
    "df.select('Base Price').distinct().collect()"
   ]
  },
  {
   "cell_type": "code",
   "execution_count": 34,
   "id": "3d5dedcc",
   "metadata": {},
   "outputs": [
    {
     "name": "stdout",
     "output_type": "stream",
     "text": [
      "+----------+-----+\n",
      "|Base Price|count|\n",
      "+----------+-----+\n",
      "|   20 Lakh|  344|\n",
      "|      2 Cr|   48|\n",
      "|Draft Pick|    6|\n",
      "|   40 Lakh|   16|\n",
      "|   30 Lakh|    9|\n",
      "|      1 Cr|   33|\n",
      "|   50 Lakh|  104|\n",
      "|    1.5 Cr|   20|\n",
      "|   75 Lakh|   26|\n",
      "|  Retained|   27|\n",
      "+----------+-----+\n",
      "\n"
     ]
    }
   ],
   "source": [
    "# Distribution of values inside column 'Base Price'\n",
    "\n",
    "df.groupBy('Base Price').count().show()"
   ]
  },
  {
   "cell_type": "code",
   "execution_count": 35,
   "id": "47b7d827",
   "metadata": {},
   "outputs": [],
   "source": [
    "# Rename columns and save it in the variable df2\n",
    "\n",
    "df2 = df.withColumnRenamed(\"Player\", \"player\")\\\n",
    "      .withColumnRenamed(\"Base Price\", \"base_price\")\\\n",
    "      .withColumnRenamed(\"Type\", \"type\")\\\n",
    "      .withColumnRenamed(\"COST IN ₹ (CR.)\", \"cost_inr\")\\\n",
    "      .withColumnRenamed(\"Cost IN $ (000)\", \"cost_usd\")\\\n",
    "      .withColumnRenamed(\"2021 Squad\", \"2021_team\")\\\n",
    "      .withColumnRenamed(\"Team\", \"2022_team\")"
   ]
  },
  {
   "cell_type": "code",
   "execution_count": 36,
   "id": "dec3e96f",
   "metadata": {},
   "outputs": [
    {
     "name": "stdout",
     "output_type": "stream",
     "text": [
      "+---+---------------+----------+-----------+--------+--------+---------+--------------+\n",
      "|_c0|         player|base_price|       type|cost_inr|cost_usd|2021_team|     2022_team|\n",
      "+---+---------------+----------+-----------+--------+--------+---------+--------------+\n",
      "|  0|    Rashid Khan|Draft Pick|     BOWLER|    15.0|  1950.0|      SRH|Gujarat Titans|\n",
      "|  1|  Hardik Pandya|Draft Pick|ALL-ROUNDER|    15.0|  1950.0|       MI|Gujarat Titans|\n",
      "|  2|Lockie Ferguson|      2 Cr|     BOWLER|    10.0|  1300.0|      KKR|Gujarat Titans|\n",
      "|  3|  Rahul Tewatia|   40 Lakh|ALL-ROUNDER|     9.0|  1170.0|       RR|Gujarat Titans|\n",
      "|  4|   Shubman Gill|Draft Pick|     BATTER|     8.0|  1040.0|      KKR|Gujarat Titans|\n",
      "+---+---------------+----------+-----------+--------+--------+---------+--------------+\n",
      "only showing top 5 rows\n",
      "\n"
     ]
    }
   ],
   "source": [
    "df2.show(5)"
   ]
  },
  {
   "cell_type": "code",
   "execution_count": 37,
   "id": "97cfa1b1",
   "metadata": {},
   "outputs": [],
   "source": [
    "# Dropping USD Column\n",
    "\n",
    "df3 = df2.drop('cost_usd')"
   ]
  },
  {
   "cell_type": "code",
   "execution_count": 38,
   "id": "bfe8ea41",
   "metadata": {},
   "outputs": [
    {
     "name": "stdout",
     "output_type": "stream",
     "text": [
      "+---+---------------+----------+-----------+--------+---------+--------------+\n",
      "|_c0|         player|base_price|       type|cost_inr|2021_team|     2022_team|\n",
      "+---+---------------+----------+-----------+--------+---------+--------------+\n",
      "|  0|    Rashid Khan|Draft Pick|     BOWLER|    15.0|      SRH|Gujarat Titans|\n",
      "|  1|  Hardik Pandya|Draft Pick|ALL-ROUNDER|    15.0|       MI|Gujarat Titans|\n",
      "|  2|Lockie Ferguson|      2 Cr|     BOWLER|    10.0|      KKR|Gujarat Titans|\n",
      "|  3|  Rahul Tewatia|   40 Lakh|ALL-ROUNDER|     9.0|       RR|Gujarat Titans|\n",
      "|  4|   Shubman Gill|Draft Pick|     BATTER|     8.0|      KKR|Gujarat Titans|\n",
      "+---+---------------+----------+-----------+--------+---------+--------------+\n",
      "only showing top 5 rows\n",
      "\n"
     ]
    }
   ],
   "source": [
    "df3.show(5)"
   ]
  },
  {
   "cell_type": "code",
   "execution_count": 45,
   "id": "19cdf6e5",
   "metadata": {},
   "outputs": [
    {
     "name": "stdout",
     "output_type": "stream",
     "text": [
      "+---------------+--------+\n",
      "|         player|cost_inr|\n",
      "+---------------+--------+\n",
      "|       KL Rahul|    17.0|\n",
      "|Ravindra Jadeja|    16.0|\n",
      "|   Rishabh Pant|    16.0|\n",
      "+---------------+--------+\n",
      "only showing top 3 rows\n",
      "\n"
     ]
    }
   ],
   "source": [
    "#Name top 3 players who got paid the most\n",
    "\n",
    "df3.select('player','cost_inr').filter(df3['type'] != 'BATTER').orderBy('cost_inr', ascending = False).show(3)"
   ]
  },
  {
   "cell_type": "code",
   "execution_count": 48,
   "id": "215d29e6",
   "metadata": {},
   "outputs": [],
   "source": [
    "df3.createOrReplaceTempView('ipl')"
   ]
  },
  {
   "cell_type": "code",
   "execution_count": 52,
   "id": "9d9513e4",
   "metadata": {},
   "outputs": [
    {
     "name": "stdout",
     "output_type": "stream",
     "text": [
      "+---------------+--------+\n",
      "|         player|cost_inr|\n",
      "+---------------+--------+\n",
      "|   Rohit Sharma|    16.0|\n",
      "|    Virat Kohli|    15.0|\n",
      "|Kane Williamson|    14.0|\n",
      "+---------------+--------+\n",
      "\n"
     ]
    }
   ],
   "source": [
    "spark.sql(\"\"\"SELECT player, cost_inr FROM ipl WHERE type = 'BATTER' ORDER BY 2 DESC LIMIT 3\"\"\").show()"
   ]
  },
  {
   "cell_type": "code",
   "execution_count": 55,
   "id": "be75bf33",
   "metadata": {},
   "outputs": [
    {
     "name": "stdout",
     "output_type": "stream",
     "text": [
      "+---------------+--------+\n",
      "|         player|cost_inr|\n",
      "+---------------+--------+\n",
      "|    Rashid Khan|    15.0|\n",
      "|  Deepak Chahar|    14.0|\n",
      "| Jasprit Bumrah|    12.0|\n",
      "| Shardul Thakur|   10.75|\n",
      "|Lockie Ferguson|    10.0|\n",
      "+---------------+--------+\n",
      "only showing top 5 rows\n",
      "\n"
     ]
    }
   ],
   "source": [
    "# Name top 5 bowlers who get paid the most\n",
    "\n",
    "df3.select('player','cost_inr').filter(df3.type == 'BOWLER').orderBy('cost_inr',ascending = False).show(5)"
   ]
  },
  {
   "cell_type": "code",
   "execution_count": 56,
   "id": "eec387f4",
   "metadata": {},
   "outputs": [
    {
     "name": "stdout",
     "output_type": "stream",
     "text": [
      "+--------------+--------+\n",
      "|        player|cost_inr|\n",
      "+--------------+--------+\n",
      "|   Rashid Khan|    15.0|\n",
      "| Deepak Chahar|    14.0|\n",
      "|Jasprit Bumrah|    12.0|\n",
      "|Shardul Thakur|   10.75|\n",
      "|    Avesh Khan|    10.0|\n",
      "+--------------+--------+\n",
      "\n"
     ]
    }
   ],
   "source": [
    "spark.sql(\"\"\"SELECT player, cost_inr FROM ipl WHERE type = 'BOWLER' ORDER BY 2 DESC LIMIT 5\"\"\").show()\n",
    "\n",
    "# Here sort the result in database by name, so the player is different"
   ]
  },
  {
   "cell_type": "code",
   "execution_count": 59,
   "id": "7d87ee96",
   "metadata": {},
   "outputs": [
    {
     "name": "stdout",
     "output_type": "stream",
     "text": [
      "+---------------+--------+\n",
      "|         player|cost_inr|\n",
      "+---------------+--------+\n",
      "|  Jitesh Sharma|     0.2|\n",
      "|    Aryan Juyal|     0.2|\n",
      "|  N. Jagadeesan|     0.2|\n",
      "|Luvnith Sisodia|     0.2|\n",
      "| Baba Indrajith|     0.2|\n",
      "+---------------+--------+\n",
      "only showing top 5 rows\n",
      "\n"
     ]
    }
   ],
   "source": [
    "# Name 5 lowest 5 paid wicket-keeper\n",
    "\n",
    "df3.select('player','cost_inr').filter((df3.type == 'WICKETKEEPER') & (df3.cost_inr.isNotNull())).orderBy('cost_inr',ascending = True).show(5)"
   ]
  },
  {
   "cell_type": "code",
   "execution_count": 61,
   "id": "1df2e1fa",
   "metadata": {},
   "outputs": [
    {
     "name": "stdout",
     "output_type": "stream",
     "text": [
      "+---------------+--------+\n",
      "|         player|cost_inr|\n",
      "+---------------+--------+\n",
      "|    Dhruv Jurel|     0.2|\n",
      "|  Jitesh Sharma|     0.2|\n",
      "|  N. Jagadeesan|     0.2|\n",
      "|    Aryan Juyal|     0.2|\n",
      "|Luvnith Sisodia|     0.2|\n",
      "+---------------+--------+\n",
      "\n"
     ]
    }
   ],
   "source": [
    "spark.sql(\"\"\"SELECT player, cost_inr FROM ipl WHERE type = 'WICKETKEEPER' AND cost_inr is not null ORDER BY 2 LIMIT 5\"\"\").show()"
   ]
  },
  {
   "cell_type": "code",
   "execution_count": 67,
   "id": "e764ddd6",
   "metadata": {},
   "outputs": [
    {
     "name": "stdout",
     "output_type": "stream",
     "text": [
      "+------------+-------------+\n",
      "|        type|average_price|\n",
      "+------------+-------------+\n",
      "|WICKETKEEPER|        5.087|\n",
      "|      BOWLER|        3.069|\n",
      "| ALL-ROUNDER|        3.606|\n",
      "|      BATTER|        4.108|\n",
      "+------------+-------------+\n",
      "\n"
     ]
    }
   ],
   "source": [
    "# What is the average pay for batsman, bowler, all-rounder, wicket-keeper?\n",
    "\n",
    "from pyspark.sql import functions as F\n",
    "\n",
    "df3.groupBy('type').agg(F.round(F.mean('cost_inr'),3).alias('average_price')).show()"
   ]
  },
  {
   "cell_type": "code",
   "execution_count": 65,
   "id": "0c19bdfa",
   "metadata": {},
   "outputs": [
    {
     "name": "stdout",
     "output_type": "stream",
     "text": [
      "+------------+-------------+\n",
      "|        type|average_price|\n",
      "+------------+-------------+\n",
      "|WICKETKEEPER|         5.09|\n",
      "|      BATTER|         4.11|\n",
      "| ALL-ROUNDER|         3.61|\n",
      "|      BOWLER|         3.07|\n",
      "+------------+-------------+\n",
      "\n"
     ]
    }
   ],
   "source": [
    "spark.sql(\"\"\"SELECT type, round(avg(cost_inr),2) average_price FROM ipl GROUP BY 1 ORDER BY 2 DESC\"\"\").show()"
   ]
  },
  {
   "cell_type": "code",
   "execution_count": 70,
   "id": "ec3b80eb",
   "metadata": {},
   "outputs": [
    {
     "name": "stdout",
     "output_type": "stream",
     "text": [
      "+---------------+---------+--------+\n",
      "|         player|2021_team|cost_inr|\n",
      "+---------------+---------+--------+\n",
      "|Ravindra Jadeja|      CSK|    16.0|\n",
      "|   Rishabh Pant|       DC|    16.0|\n",
      "|   Rohit Sharma|       MI|    16.0|\n",
      "|    Virat Kohli|      RCB|    15.0|\n",
      "|   Sanju Samson|       RR|    14.0|\n",
      "|Kane Williamson|      SRH|    14.0|\n",
      "|       MS Dhoni|      CSK|    12.0|\n",
      "|  Andre Russell|      KKR|    12.0|\n",
      "| Mayank Agarwal|     PBKS|    12.0|\n",
      "| Jasprit Bumrah|       MI|    12.0|\n",
      "+---------------+---------+--------+\n",
      "only showing top 10 rows\n",
      "\n"
     ]
    }
   ],
   "source": [
    "# List of Retained players with team name and salary\n",
    "\n",
    "df3.select('player','2021_team','cost_inr').where(df3.base_price == 'Retained').orderBy('cost_inr',ascending = False).show(10)"
   ]
  },
  {
   "cell_type": "code",
   "execution_count": 71,
   "id": "71fdaf47",
   "metadata": {},
   "outputs": [
    {
     "name": "stdout",
     "output_type": "stream",
     "text": [
      "+---------------+--------+\n",
      "|         player|cost_inr|\n",
      "+---------------+--------+\n",
      "|Ravindra Jadeja|    16.0|\n",
      "|   Rishabh Pant|    16.0|\n",
      "|   Rohit Sharma|    16.0|\n",
      "|    Virat Kohli|    15.0|\n",
      "|   Sanju Samson|    14.0|\n",
      "+---------------+--------+\n",
      "\n"
     ]
    }
   ],
   "source": [
    "spark.sql(\"\"\"SELECT player, cost_inr FROM ipl WHERE base_price = 'Retained' ORDER BY 2 DESC LIMIT 5\"\"\").show()"
   ]
  },
  {
   "cell_type": "code",
   "execution_count": null,
   "id": "78d18542",
   "metadata": {},
   "outputs": [],
   "source": []
  }
 ],
 "metadata": {
  "kernelspec": {
   "display_name": "Python 3 (ipykernel)",
   "language": "python",
   "name": "python3"
  },
  "language_info": {
   "codemirror_mode": {
    "name": "ipython",
    "version": 3
   },
   "file_extension": ".py",
   "mimetype": "text/x-python",
   "name": "python",
   "nbconvert_exporter": "python",
   "pygments_lexer": "ipython3",
   "version": "3.10.9"
  }
 },
 "nbformat": 4,
 "nbformat_minor": 5
}
