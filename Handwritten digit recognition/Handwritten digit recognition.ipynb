{
 "cells": [
  {
   "cell_type": "code",
   "execution_count": 1,
   "id": "71ac3834",
   "metadata": {},
   "outputs": [],
   "source": [
    "# !pip install torch\n",
    "# !pip install torchvision"
   ]
  },
  {
   "cell_type": "code",
   "execution_count": 2,
   "id": "079c3e62",
   "metadata": {},
   "outputs": [],
   "source": [
    "from torchvision import datasets\n",
    "from torchvision.transforms import ToTensor"
   ]
  },
  {
   "cell_type": "code",
   "execution_count": 3,
   "id": "7c7a3307",
   "metadata": {},
   "outputs": [],
   "source": [
    "train_data = datasets.MNIST(\n",
    "    root = 'data',\n",
    "    train = True,\n",
    "    transform = ToTensor(),\n",
    "    download = True\n",
    ")\n",
    "\n",
    "test_data = datasets.MNIST(\n",
    "    root = 'data',\n",
    "    train = False,\n",
    "    transform = ToTensor(),\n",
    "    download = True\n",
    ")"
   ]
  },
  {
   "cell_type": "code",
   "execution_count": 4,
   "id": "b5a08418",
   "metadata": {},
   "outputs": [
    {
     "data": {
      "text/plain": [
       "Dataset MNIST\n",
       "    Number of datapoints: 60000\n",
       "    Root location: data\n",
       "    Split: Train\n",
       "    StandardTransform\n",
       "Transform: ToTensor()"
      ]
     },
     "execution_count": 4,
     "metadata": {},
     "output_type": "execute_result"
    }
   ],
   "source": [
    "train_data"
   ]
  },
  {
   "cell_type": "code",
   "execution_count": 5,
   "id": "a7f3478a",
   "metadata": {},
   "outputs": [
    {
     "data": {
      "text/plain": [
       "Dataset MNIST\n",
       "    Number of datapoints: 10000\n",
       "    Root location: data\n",
       "    Split: Test\n",
       "    StandardTransform\n",
       "Transform: ToTensor()"
      ]
     },
     "execution_count": 5,
     "metadata": {},
     "output_type": "execute_result"
    }
   ],
   "source": [
    "test_data"
   ]
  },
  {
   "cell_type": "code",
   "execution_count": 6,
   "id": "765d3ba8",
   "metadata": {},
   "outputs": [
    {
     "data": {
      "text/plain": [
       "torch.Size([60000, 28, 28])"
      ]
     },
     "execution_count": 6,
     "metadata": {},
     "output_type": "execute_result"
    }
   ],
   "source": [
    "# train_data.data.shape\n",
    "train_data.data.size()"
   ]
  },
  {
   "cell_type": "code",
   "execution_count": 7,
   "id": "12e49815",
   "metadata": {},
   "outputs": [
    {
     "data": {
      "text/plain": [
       "torch.Size([60000])"
      ]
     },
     "execution_count": 7,
     "metadata": {},
     "output_type": "execute_result"
    }
   ],
   "source": [
    "train_data.targets.size()"
   ]
  },
  {
   "cell_type": "code",
   "execution_count": 8,
   "id": "0ae026c5",
   "metadata": {},
   "outputs": [
    {
     "data": {
      "text/plain": [
       "tensor([5, 0, 4,  ..., 5, 6, 8])"
      ]
     },
     "execution_count": 8,
     "metadata": {},
     "output_type": "execute_result"
    }
   ],
   "source": [
    "train_data.targets"
   ]
  },
  {
   "cell_type": "code",
   "execution_count": 9,
   "id": "6f7bc74a",
   "metadata": {},
   "outputs": [],
   "source": [
    "from torch.utils.data import DataLoader\n",
    "\n",
    "loaders = {\n",
    "    'train' : DataLoader(train_data,\n",
    "                        batch_size = 100,\n",
    "                        shuffle = True,\n",
    "                        num_workers = 1),\n",
    "    \n",
    "    'test' : DataLoader(train_data,\n",
    "                        batch_size = 100,\n",
    "                        shuffle = True,\n",
    "                        num_workers = 1),    \n",
    "    \n",
    "}"
   ]
  },
  {
   "cell_type": "code",
   "execution_count": 10,
   "id": "18f03263",
   "metadata": {},
   "outputs": [
    {
     "data": {
      "text/plain": [
       "{'train': <torch.utils.data.dataloader.DataLoader at 0x1ca880969b0>,\n",
       " 'test': <torch.utils.data.dataloader.DataLoader at 0x1ca88097c70>}"
      ]
     },
     "execution_count": 10,
     "metadata": {},
     "output_type": "execute_result"
    }
   ],
   "source": [
    "# get the data into our model\n",
    "\n",
    "loaders"
   ]
  },
  {
   "cell_type": "code",
   "execution_count": 11,
   "id": "6e571fba",
   "metadata": {},
   "outputs": [],
   "source": [
    "# Find model architecture, deep learning neural network structure\n",
    "\n",
    "import torch.nn as nn\n",
    "import torch.nn.functional as F\n",
    "import torch.optim as optim\n",
    "\n",
    "class CNN(nn.Module):\n",
    "    \n",
    "    def __init__(self):\n",
    "        super(CNN, self).__init__()\n",
    "        \n",
    "        self.conv1 = nn.Conv2d(1, 10, kernel_size = 5)\n",
    "        self.conv2 = nn.Conv2d(10, 20, kernel_size = 5)\n",
    "        self.conv2_drop = nn.Dropout2d()\n",
    "        self.fcl = nn.Linear(320, 50)\n",
    "        self.fc2 = nn.Linear(50, 10)\n",
    "        \n",
    "        \n",
    "    def forward(self, x):\n",
    "        x = F.relu(F.max_pool2d(self.conv1(x), 2))\n",
    "        x = F.relu(F.max_pool2d(self.conv2_drop(self.conv2(x)), 2))\n",
    "        x = x.view(-1, 320)\n",
    "        x = F.relu(self.fcl(x))\n",
    "        x = F.dropout(x, training = self.training)\n",
    "        x = self.fc2(x)\n",
    "        \n",
    "        return F.softmax(x, dim = 1)"
   ]
  },
  {
   "cell_type": "code",
   "execution_count": 12,
   "id": "58247d0f",
   "metadata": {},
   "outputs": [],
   "source": [
    "# For optimize and train\n",
    "\n",
    "import torch\n",
    "\n",
    "device = torch.device('cuda' if torch.cuda.is_available() else 'cpu')\n",
    "\n",
    "model = CNN().to(device)\n",
    "\n",
    "optimizer = optim.Adam(model.parameters(), lr = 0.001)\n",
    "\n",
    "# Define a lost function\n",
    "\n",
    "loss_fn = nn.CrossEntropyLoss()\n",
    "\n",
    "def train(epoch):\n",
    "    model.train()\n",
    "    for batch_idx, (data, target) in enumerate (loaders['train']):\n",
    "        data, target = data.to(device), target.to(device)\n",
    "        optimizer.zero_grad()\n",
    "        output = model(data)\n",
    "        loss = loss_fn(output, target)\n",
    "        loss.backward()\n",
    "        optimizer.step()\n",
    "        if batch_idx % 20 == 0:\n",
    "            print(f'Train Epoch: {epoch} [{batch_idx * len(data)/len(loaders[\"train\"].dataset)}({100. * batch_idx/ len(loaders[\"train\"]):.0f}%)]\\t{loss.item():.6f}')\n",
    "\n",
    "\n",
    "            \n",
    "def test():\n",
    "    model.eval()\n",
    "    \n",
    "    test_loss = 0 \n",
    "    correct = 0\n",
    "    \n",
    "    with torch.no_grad():\n",
    "        for data, target in loaders['test']:\n",
    "            data, target = data.to(device), target.to(device)\n",
    "            output = model(data)\n",
    "            test_loss += loss_fn(output, target).item()\n",
    "            pred = output.argmax(dim = 1, keepdim = True)\n",
    "            correct += pred.eq(target.view_as(pred)).sum().item()\n",
    "            \n",
    "            \n",
    "    test_loss /= len(loaders['test'].dataset)\n",
    "    print(f'\\nTest set: Average loss: {test_loss:.4f}, Accuracy {correct}/{len(loaders[\"test\"].dataset)} ({100. * correct / len(loaders[\"test\"].dataset):.0f}%\\n)')"
   ]
  },
  {
   "cell_type": "code",
   "execution_count": 13,
   "id": "838c992f",
   "metadata": {},
   "outputs": [
    {
     "name": "stdout",
     "output_type": "stream",
     "text": [
      "Train Epoch: 1 [0.0(0%)]\t2.301236\n",
      "Train Epoch: 1 [0.03333333333333333(3%)]\t2.288034\n",
      "Train Epoch: 1 [0.06666666666666667(7%)]\t2.188403\n",
      "Train Epoch: 1 [0.1(10%)]\t2.062964\n",
      "Train Epoch: 1 [0.13333333333333333(13%)]\t2.007261\n",
      "Train Epoch: 1 [0.16666666666666666(17%)]\t1.880702\n",
      "Train Epoch: 1 [0.2(20%)]\t1.861166\n",
      "Train Epoch: 1 [0.23333333333333334(23%)]\t1.739914\n",
      "Train Epoch: 1 [0.26666666666666666(27%)]\t1.778570\n",
      "Train Epoch: 1 [0.3(30%)]\t1.719941\n",
      "Train Epoch: 1 [0.3333333333333333(33%)]\t1.801684\n",
      "Train Epoch: 1 [0.36666666666666664(37%)]\t1.700402\n",
      "Train Epoch: 1 [0.4(40%)]\t1.680130\n",
      "Train Epoch: 1 [0.43333333333333335(43%)]\t1.660062\n",
      "Train Epoch: 1 [0.4666666666666667(47%)]\t1.616022\n",
      "Train Epoch: 1 [0.5(50%)]\t1.676103\n",
      "Train Epoch: 1 [0.5333333333333333(53%)]\t1.678331\n",
      "Train Epoch: 1 [0.5666666666666667(57%)]\t1.648888\n",
      "Train Epoch: 1 [0.6(60%)]\t1.628299\n",
      "Train Epoch: 1 [0.6333333333333333(63%)]\t1.641236\n",
      "Train Epoch: 1 [0.6666666666666666(67%)]\t1.672595\n",
      "Train Epoch: 1 [0.7(70%)]\t1.640128\n",
      "Train Epoch: 1 [0.7333333333333333(73%)]\t1.667726\n",
      "Train Epoch: 1 [0.7666666666666667(77%)]\t1.633537\n",
      "Train Epoch: 1 [0.8(80%)]\t1.581339\n",
      "Train Epoch: 1 [0.8333333333333334(83%)]\t1.573098\n",
      "Train Epoch: 1 [0.8666666666666667(87%)]\t1.602331\n",
      "Train Epoch: 1 [0.9(90%)]\t1.621873\n",
      "Train Epoch: 1 [0.9333333333333333(93%)]\t1.597960\n",
      "Train Epoch: 1 [0.9666666666666667(97%)]\t1.604456\n",
      "\n",
      "Test set: Average loss: 0.0153, Accuracy 55847/60000 (93%\n",
      ")\n",
      "Train Epoch: 2 [0.0(0%)]\t1.561627\n",
      "Train Epoch: 2 [0.03333333333333333(3%)]\t1.648020\n",
      "Train Epoch: 2 [0.06666666666666667(7%)]\t1.565533\n",
      "Train Epoch: 2 [0.1(10%)]\t1.607842\n",
      "Train Epoch: 2 [0.13333333333333333(13%)]\t1.586112\n",
      "Train Epoch: 2 [0.16666666666666666(17%)]\t1.591826\n",
      "Train Epoch: 2 [0.2(20%)]\t1.588179\n",
      "Train Epoch: 2 [0.23333333333333334(23%)]\t1.555946\n",
      "Train Epoch: 2 [0.26666666666666666(27%)]\t1.589888\n",
      "Train Epoch: 2 [0.3(30%)]\t1.599676\n",
      "Train Epoch: 2 [0.3333333333333333(33%)]\t1.568621\n",
      "Train Epoch: 2 [0.36666666666666664(37%)]\t1.597883\n",
      "Train Epoch: 2 [0.4(40%)]\t1.574650\n",
      "Train Epoch: 2 [0.43333333333333335(43%)]\t1.576689\n",
      "Train Epoch: 2 [0.4666666666666667(47%)]\t1.573282\n",
      "Train Epoch: 2 [0.5(50%)]\t1.590638\n",
      "Train Epoch: 2 [0.5333333333333333(53%)]\t1.566253\n",
      "Train Epoch: 2 [0.5666666666666667(57%)]\t1.574126\n",
      "Train Epoch: 2 [0.6(60%)]\t1.573418\n",
      "Train Epoch: 2 [0.6333333333333333(63%)]\t1.604516\n",
      "Train Epoch: 2 [0.6666666666666666(67%)]\t1.546029\n",
      "Train Epoch: 2 [0.7(70%)]\t1.564759\n",
      "Train Epoch: 2 [0.7333333333333333(73%)]\t1.588853\n",
      "Train Epoch: 2 [0.7666666666666667(77%)]\t1.595769\n",
      "Train Epoch: 2 [0.8(80%)]\t1.630139\n",
      "Train Epoch: 2 [0.8333333333333334(83%)]\t1.586527\n",
      "Train Epoch: 2 [0.8666666666666667(87%)]\t1.570730\n",
      "Train Epoch: 2 [0.9(90%)]\t1.588290\n",
      "Train Epoch: 2 [0.9333333333333333(93%)]\t1.620453\n",
      "Train Epoch: 2 [0.9666666666666667(97%)]\t1.572523\n",
      "\n",
      "Test set: Average loss: 0.0151, Accuracy 57066/60000 (95%\n",
      ")\n",
      "Train Epoch: 3 [0.0(0%)]\t1.587189\n",
      "Train Epoch: 3 [0.03333333333333333(3%)]\t1.555323\n",
      "Train Epoch: 3 [0.06666666666666667(7%)]\t1.567562\n",
      "Train Epoch: 3 [0.1(10%)]\t1.574973\n",
      "Train Epoch: 3 [0.13333333333333333(13%)]\t1.557014\n",
      "Train Epoch: 3 [0.16666666666666666(17%)]\t1.559927\n",
      "Train Epoch: 3 [0.2(20%)]\t1.571144\n",
      "Train Epoch: 3 [0.23333333333333334(23%)]\t1.563276\n",
      "Train Epoch: 3 [0.26666666666666666(27%)]\t1.559079\n",
      "Train Epoch: 3 [0.3(30%)]\t1.622584\n",
      "Train Epoch: 3 [0.3333333333333333(33%)]\t1.546178\n",
      "Train Epoch: 3 [0.36666666666666664(37%)]\t1.563694\n",
      "Train Epoch: 3 [0.4(40%)]\t1.513892\n",
      "Train Epoch: 3 [0.43333333333333335(43%)]\t1.557356\n",
      "Train Epoch: 3 [0.4666666666666667(47%)]\t1.591476\n",
      "Train Epoch: 3 [0.5(50%)]\t1.617601\n",
      "Train Epoch: 3 [0.5333333333333333(53%)]\t1.551623\n",
      "Train Epoch: 3 [0.5666666666666667(57%)]\t1.588513\n",
      "Train Epoch: 3 [0.6(60%)]\t1.585135\n",
      "Train Epoch: 3 [0.6333333333333333(63%)]\t1.569653\n",
      "Train Epoch: 3 [0.6666666666666666(67%)]\t1.539969\n",
      "Train Epoch: 3 [0.7(70%)]\t1.568711\n",
      "Train Epoch: 3 [0.7333333333333333(73%)]\t1.583577\n",
      "Train Epoch: 3 [0.7666666666666667(77%)]\t1.576196\n",
      "Train Epoch: 3 [0.8(80%)]\t1.553089\n",
      "Train Epoch: 3 [0.8333333333333334(83%)]\t1.585576\n",
      "Train Epoch: 3 [0.8666666666666667(87%)]\t1.517835\n",
      "Train Epoch: 3 [0.9(90%)]\t1.583942\n",
      "Train Epoch: 3 [0.9333333333333333(93%)]\t1.548214\n",
      "Train Epoch: 3 [0.9666666666666667(97%)]\t1.556307\n",
      "\n",
      "Test set: Average loss: 0.0150, Accuracy 57559/60000 (96%\n",
      ")\n",
      "Train Epoch: 4 [0.0(0%)]\t1.582935\n",
      "Train Epoch: 4 [0.03333333333333333(3%)]\t1.575060\n",
      "Train Epoch: 4 [0.06666666666666667(7%)]\t1.540812\n",
      "Train Epoch: 4 [0.1(10%)]\t1.538497\n",
      "Train Epoch: 4 [0.13333333333333333(13%)]\t1.537540\n",
      "Train Epoch: 4 [0.16666666666666666(17%)]\t1.569345\n",
      "Train Epoch: 4 [0.2(20%)]\t1.553486\n",
      "Train Epoch: 4 [0.23333333333333334(23%)]\t1.589226\n",
      "Train Epoch: 4 [0.26666666666666666(27%)]\t1.602083\n",
      "Train Epoch: 4 [0.3(30%)]\t1.555246\n",
      "Train Epoch: 4 [0.3333333333333333(33%)]\t1.541351\n",
      "Train Epoch: 4 [0.36666666666666664(37%)]\t1.509575\n",
      "Train Epoch: 4 [0.4(40%)]\t1.546847\n",
      "Train Epoch: 4 [0.43333333333333335(43%)]\t1.582036\n",
      "Train Epoch: 4 [0.4666666666666667(47%)]\t1.524073\n",
      "Train Epoch: 4 [0.5(50%)]\t1.513670\n",
      "Train Epoch: 4 [0.5333333333333333(53%)]\t1.539633\n",
      "Train Epoch: 4 [0.5666666666666667(57%)]\t1.562170\n",
      "Train Epoch: 4 [0.6(60%)]\t1.504539\n",
      "Train Epoch: 4 [0.6333333333333333(63%)]\t1.541075\n",
      "Train Epoch: 4 [0.6666666666666666(67%)]\t1.534495\n",
      "Train Epoch: 4 [0.7(70%)]\t1.596183\n",
      "Train Epoch: 4 [0.7333333333333333(73%)]\t1.559097\n",
      "Train Epoch: 4 [0.7666666666666667(77%)]\t1.506428\n",
      "Train Epoch: 4 [0.8(80%)]\t1.524073\n",
      "Train Epoch: 4 [0.8333333333333334(83%)]\t1.531869\n",
      "Train Epoch: 4 [0.8666666666666667(87%)]\t1.578316\n",
      "Train Epoch: 4 [0.9(90%)]\t1.572473\n",
      "Train Epoch: 4 [0.9333333333333333(93%)]\t1.541159\n",
      "Train Epoch: 4 [0.9666666666666667(97%)]\t1.498966\n",
      "\n",
      "Test set: Average loss: 0.0150, Accuracy 57775/60000 (96%\n",
      ")\n",
      "Train Epoch: 5 [0.0(0%)]\t1.542376\n",
      "Train Epoch: 5 [0.03333333333333333(3%)]\t1.501980\n",
      "Train Epoch: 5 [0.06666666666666667(7%)]\t1.550936\n",
      "Train Epoch: 5 [0.1(10%)]\t1.586188\n",
      "Train Epoch: 5 [0.13333333333333333(13%)]\t1.525568\n",
      "Train Epoch: 5 [0.16666666666666666(17%)]\t1.554322\n",
      "Train Epoch: 5 [0.2(20%)]\t1.574069\n",
      "Train Epoch: 5 [0.23333333333333334(23%)]\t1.533133\n",
      "Train Epoch: 5 [0.26666666666666666(27%)]\t1.536109\n",
      "Train Epoch: 5 [0.3(30%)]\t1.544804\n",
      "Train Epoch: 5 [0.3333333333333333(33%)]\t1.544112\n",
      "Train Epoch: 5 [0.36666666666666664(37%)]\t1.527997\n",
      "Train Epoch: 5 [0.4(40%)]\t1.548879\n",
      "Train Epoch: 5 [0.43333333333333335(43%)]\t1.530752\n",
      "Train Epoch: 5 [0.4666666666666667(47%)]\t1.544980\n",
      "Train Epoch: 5 [0.5(50%)]\t1.544745\n",
      "Train Epoch: 5 [0.5333333333333333(53%)]\t1.533502\n",
      "Train Epoch: 5 [0.5666666666666667(57%)]\t1.514097\n",
      "Train Epoch: 5 [0.6(60%)]\t1.550910\n",
      "Train Epoch: 5 [0.6333333333333333(63%)]\t1.526778\n",
      "Train Epoch: 5 [0.6666666666666666(67%)]\t1.529471\n",
      "Train Epoch: 5 [0.7(70%)]\t1.577094\n",
      "Train Epoch: 5 [0.7333333333333333(73%)]\t1.532785\n",
      "Train Epoch: 5 [0.7666666666666667(77%)]\t1.517010\n",
      "Train Epoch: 5 [0.8(80%)]\t1.530358\n",
      "Train Epoch: 5 [0.8333333333333334(83%)]\t1.578837\n",
      "Train Epoch: 5 [0.8666666666666667(87%)]\t1.543835\n",
      "Train Epoch: 5 [0.9(90%)]\t1.531410\n",
      "Train Epoch: 5 [0.9333333333333333(93%)]\t1.518625\n",
      "Train Epoch: 5 [0.9666666666666667(97%)]\t1.556445\n",
      "\n",
      "Test set: Average loss: 0.0149, Accuracy 57989/60000 (97%\n",
      ")\n",
      "Train Epoch: 6 [0.0(0%)]\t1.515314\n",
      "Train Epoch: 6 [0.03333333333333333(3%)]\t1.509943\n",
      "Train Epoch: 6 [0.06666666666666667(7%)]\t1.520834\n",
      "Train Epoch: 6 [0.1(10%)]\t1.570551\n",
      "Train Epoch: 6 [0.13333333333333333(13%)]\t1.553919\n",
      "Train Epoch: 6 [0.16666666666666666(17%)]\t1.507163\n",
      "Train Epoch: 6 [0.2(20%)]\t1.539616\n",
      "Train Epoch: 6 [0.23333333333333334(23%)]\t1.521797\n",
      "Train Epoch: 6 [0.26666666666666666(27%)]\t1.531444\n",
      "Train Epoch: 6 [0.3(30%)]\t1.522999\n",
      "Train Epoch: 6 [0.3333333333333333(33%)]\t1.519945\n",
      "Train Epoch: 6 [0.36666666666666664(37%)]\t1.556033\n",
      "Train Epoch: 6 [0.4(40%)]\t1.590912\n",
      "Train Epoch: 6 [0.43333333333333335(43%)]\t1.492696\n",
      "Train Epoch: 6 [0.4666666666666667(47%)]\t1.544352\n",
      "Train Epoch: 6 [0.5(50%)]\t1.523128\n",
      "Train Epoch: 6 [0.5333333333333333(53%)]\t1.532805\n",
      "Train Epoch: 6 [0.5666666666666667(57%)]\t1.538561\n",
      "Train Epoch: 6 [0.6(60%)]\t1.542408\n",
      "Train Epoch: 6 [0.6333333333333333(63%)]\t1.557474\n",
      "Train Epoch: 6 [0.6666666666666666(67%)]\t1.549034\n",
      "Train Epoch: 6 [0.7(70%)]\t1.540883\n",
      "Train Epoch: 6 [0.7333333333333333(73%)]\t1.521701\n",
      "Train Epoch: 6 [0.7666666666666667(77%)]\t1.609508\n",
      "Train Epoch: 6 [0.8(80%)]\t1.564916\n"
     ]
    },
    {
     "name": "stdout",
     "output_type": "stream",
     "text": [
      "Train Epoch: 6 [0.8333333333333334(83%)]\t1.523556\n",
      "Train Epoch: 6 [0.8666666666666667(87%)]\t1.492946\n",
      "Train Epoch: 6 [0.9(90%)]\t1.507527\n",
      "Train Epoch: 6 [0.9333333333333333(93%)]\t1.474783\n",
      "Train Epoch: 6 [0.9666666666666667(97%)]\t1.520185\n",
      "\n",
      "Test set: Average loss: 0.0149, Accuracy 58062/60000 (97%\n",
      ")\n",
      "Train Epoch: 7 [0.0(0%)]\t1.503155\n",
      "Train Epoch: 7 [0.03333333333333333(3%)]\t1.541767\n",
      "Train Epoch: 7 [0.06666666666666667(7%)]\t1.603888\n",
      "Train Epoch: 7 [0.1(10%)]\t1.521546\n",
      "Train Epoch: 7 [0.13333333333333333(13%)]\t1.533028\n",
      "Train Epoch: 7 [0.16666666666666666(17%)]\t1.534083\n",
      "Train Epoch: 7 [0.2(20%)]\t1.517006\n",
      "Train Epoch: 7 [0.23333333333333334(23%)]\t1.510044\n",
      "Train Epoch: 7 [0.26666666666666666(27%)]\t1.526067\n",
      "Train Epoch: 7 [0.3(30%)]\t1.508669\n",
      "Train Epoch: 7 [0.3333333333333333(33%)]\t1.517626\n",
      "Train Epoch: 7 [0.36666666666666664(37%)]\t1.557824\n",
      "Train Epoch: 7 [0.4(40%)]\t1.499905\n",
      "Train Epoch: 7 [0.43333333333333335(43%)]\t1.507748\n",
      "Train Epoch: 7 [0.4666666666666667(47%)]\t1.528217\n",
      "Train Epoch: 7 [0.5(50%)]\t1.540191\n",
      "Train Epoch: 7 [0.5333333333333333(53%)]\t1.507270\n",
      "Train Epoch: 7 [0.5666666666666667(57%)]\t1.531751\n",
      "Train Epoch: 7 [0.6(60%)]\t1.546535\n",
      "Train Epoch: 7 [0.6333333333333333(63%)]\t1.492841\n",
      "Train Epoch: 7 [0.6666666666666666(67%)]\t1.585012\n",
      "Train Epoch: 7 [0.7(70%)]\t1.538402\n",
      "Train Epoch: 7 [0.7333333333333333(73%)]\t1.519200\n",
      "Train Epoch: 7 [0.7666666666666667(77%)]\t1.543014\n",
      "Train Epoch: 7 [0.8(80%)]\t1.499744\n",
      "Train Epoch: 7 [0.8333333333333334(83%)]\t1.507101\n",
      "Train Epoch: 7 [0.8666666666666667(87%)]\t1.493215\n",
      "Train Epoch: 7 [0.9(90%)]\t1.511971\n",
      "Train Epoch: 7 [0.9333333333333333(93%)]\t1.510668\n",
      "Train Epoch: 7 [0.9666666666666667(97%)]\t1.537734\n",
      "\n",
      "Test set: Average loss: 0.0149, Accuracy 58201/60000 (97%\n",
      ")\n",
      "Train Epoch: 8 [0.0(0%)]\t1.501912\n",
      "Train Epoch: 8 [0.03333333333333333(3%)]\t1.588461\n",
      "Train Epoch: 8 [0.06666666666666667(7%)]\t1.508988\n",
      "Train Epoch: 8 [0.1(10%)]\t1.521833\n",
      "Train Epoch: 8 [0.13333333333333333(13%)]\t1.543834\n",
      "Train Epoch: 8 [0.16666666666666666(17%)]\t1.554182\n",
      "Train Epoch: 8 [0.2(20%)]\t1.540344\n",
      "Train Epoch: 8 [0.23333333333333334(23%)]\t1.606770\n",
      "Train Epoch: 8 [0.26666666666666666(27%)]\t1.556610\n",
      "Train Epoch: 8 [0.3(30%)]\t1.557512\n",
      "Train Epoch: 8 [0.3333333333333333(33%)]\t1.495817\n",
      "Train Epoch: 8 [0.36666666666666664(37%)]\t1.513544\n",
      "Train Epoch: 8 [0.4(40%)]\t1.553079\n",
      "Train Epoch: 8 [0.43333333333333335(43%)]\t1.533086\n",
      "Train Epoch: 8 [0.4666666666666667(47%)]\t1.555169\n",
      "Train Epoch: 8 [0.5(50%)]\t1.516392\n",
      "Train Epoch: 8 [0.5333333333333333(53%)]\t1.504792\n",
      "Train Epoch: 8 [0.5666666666666667(57%)]\t1.487486\n",
      "Train Epoch: 8 [0.6(60%)]\t1.521202\n",
      "Train Epoch: 8 [0.6333333333333333(63%)]\t1.555052\n",
      "Train Epoch: 8 [0.6666666666666666(67%)]\t1.519117\n",
      "Train Epoch: 8 [0.7(70%)]\t1.585175\n",
      "Train Epoch: 8 [0.7333333333333333(73%)]\t1.539610\n",
      "Train Epoch: 8 [0.7666666666666667(77%)]\t1.534143\n",
      "Train Epoch: 8 [0.8(80%)]\t1.496185\n",
      "Train Epoch: 8 [0.8333333333333334(83%)]\t1.558714\n",
      "Train Epoch: 8 [0.8666666666666667(87%)]\t1.524999\n",
      "Train Epoch: 8 [0.9(90%)]\t1.507556\n",
      "Train Epoch: 8 [0.9333333333333333(93%)]\t1.511902\n",
      "Train Epoch: 8 [0.9666666666666667(97%)]\t1.548813\n",
      "\n",
      "Test set: Average loss: 0.0149, Accuracy 58250/60000 (97%\n",
      ")\n",
      "Train Epoch: 9 [0.0(0%)]\t1.512966\n",
      "Train Epoch: 9 [0.03333333333333333(3%)]\t1.544144\n",
      "Train Epoch: 9 [0.06666666666666667(7%)]\t1.505679\n",
      "Train Epoch: 9 [0.1(10%)]\t1.564528\n",
      "Train Epoch: 9 [0.13333333333333333(13%)]\t1.521835\n",
      "Train Epoch: 9 [0.16666666666666666(17%)]\t1.575770\n",
      "Train Epoch: 9 [0.2(20%)]\t1.528024\n",
      "Train Epoch: 9 [0.23333333333333334(23%)]\t1.513519\n",
      "Train Epoch: 9 [0.26666666666666666(27%)]\t1.548529\n",
      "Train Epoch: 9 [0.3(30%)]\t1.489977\n",
      "Train Epoch: 9 [0.3333333333333333(33%)]\t1.512522\n",
      "Train Epoch: 9 [0.36666666666666664(37%)]\t1.529163\n",
      "Train Epoch: 9 [0.4(40%)]\t1.506257\n",
      "Train Epoch: 9 [0.43333333333333335(43%)]\t1.532054\n",
      "Train Epoch: 9 [0.4666666666666667(47%)]\t1.554989\n",
      "Train Epoch: 9 [0.5(50%)]\t1.539792\n",
      "Train Epoch: 9 [0.5333333333333333(53%)]\t1.497360\n",
      "Train Epoch: 9 [0.5666666666666667(57%)]\t1.493873\n",
      "Train Epoch: 9 [0.6(60%)]\t1.510440\n",
      "Train Epoch: 9 [0.6333333333333333(63%)]\t1.517411\n",
      "Train Epoch: 9 [0.6666666666666666(67%)]\t1.507391\n",
      "Train Epoch: 9 [0.7(70%)]\t1.520344\n",
      "Train Epoch: 9 [0.7333333333333333(73%)]\t1.501877\n",
      "Train Epoch: 9 [0.7666666666666667(77%)]\t1.527941\n",
      "Train Epoch: 9 [0.8(80%)]\t1.578680\n",
      "Train Epoch: 9 [0.8333333333333334(83%)]\t1.518305\n",
      "Train Epoch: 9 [0.8666666666666667(87%)]\t1.536757\n",
      "Train Epoch: 9 [0.9(90%)]\t1.524133\n",
      "Train Epoch: 9 [0.9333333333333333(93%)]\t1.516473\n",
      "Train Epoch: 9 [0.9666666666666667(97%)]\t1.524771\n",
      "\n",
      "Test set: Average loss: 0.0149, Accuracy 58289/60000 (97%\n",
      ")\n",
      "Train Epoch: 10 [0.0(0%)]\t1.570764\n",
      "Train Epoch: 10 [0.03333333333333333(3%)]\t1.546866\n",
      "Train Epoch: 10 [0.06666666666666667(7%)]\t1.500985\n",
      "Train Epoch: 10 [0.1(10%)]\t1.558917\n",
      "Train Epoch: 10 [0.13333333333333333(13%)]\t1.534476\n",
      "Train Epoch: 10 [0.16666666666666666(17%)]\t1.517651\n",
      "Train Epoch: 10 [0.2(20%)]\t1.477548\n",
      "Train Epoch: 10 [0.23333333333333334(23%)]\t1.507536\n",
      "Train Epoch: 10 [0.26666666666666666(27%)]\t1.513876\n",
      "Train Epoch: 10 [0.3(30%)]\t1.524328\n",
      "Train Epoch: 10 [0.3333333333333333(33%)]\t1.548890\n",
      "Train Epoch: 10 [0.36666666666666664(37%)]\t1.515066\n",
      "Train Epoch: 10 [0.4(40%)]\t1.516877\n",
      "Train Epoch: 10 [0.43333333333333335(43%)]\t1.547327\n",
      "Train Epoch: 10 [0.4666666666666667(47%)]\t1.566232\n",
      "Train Epoch: 10 [0.5(50%)]\t1.464534\n",
      "Train Epoch: 10 [0.5333333333333333(53%)]\t1.505346\n",
      "Train Epoch: 10 [0.5666666666666667(57%)]\t1.526361\n",
      "Train Epoch: 10 [0.6(60%)]\t1.570891\n",
      "Train Epoch: 10 [0.6333333333333333(63%)]\t1.513851\n",
      "Train Epoch: 10 [0.6666666666666666(67%)]\t1.511515\n",
      "Train Epoch: 10 [0.7(70%)]\t1.502191\n",
      "Train Epoch: 10 [0.7333333333333333(73%)]\t1.511313\n",
      "Train Epoch: 10 [0.7666666666666667(77%)]\t1.521781\n",
      "Train Epoch: 10 [0.8(80%)]\t1.559108\n",
      "Train Epoch: 10 [0.8333333333333334(83%)]\t1.504381\n",
      "Train Epoch: 10 [0.8666666666666667(87%)]\t1.508445\n",
      "Train Epoch: 10 [0.9(90%)]\t1.515861\n",
      "Train Epoch: 10 [0.9333333333333333(93%)]\t1.569184\n",
      "Train Epoch: 10 [0.9666666666666667(97%)]\t1.531810\n",
      "\n",
      "Test set: Average loss: 0.0149, Accuracy 58398/60000 (97%\n",
      ")\n"
     ]
    }
   ],
   "source": [
    "# Start the training\n",
    "for epoch in range(1, 11):\n",
    "    train(epoch)\n",
    "    test()"
   ]
  },
  {
   "cell_type": "code",
   "execution_count": 14,
   "id": "75bb9822",
   "metadata": {},
   "outputs": [
    {
     "data": {
      "text/plain": [
       "device(type='cpu')"
      ]
     },
     "execution_count": 14,
     "metadata": {},
     "output_type": "execute_result"
    }
   ],
   "source": [
    "device"
   ]
  },
  {
   "cell_type": "code",
   "execution_count": null,
   "id": "03f1c13f",
   "metadata": {},
   "outputs": [
    {
     "name": "stdout",
     "output_type": "stream",
     "text": [
      "Prediction: 0\n"
     ]
    }
   ],
   "source": [
    "import matplotlib.pyplot as plt\n",
    "\n",
    "model.eval()\n",
    "\n",
    "data, target = test_data[3]\n",
    "\n",
    "data = data.unsqueeze(0).to(device)\n",
    "\n",
    "output = model(data)\n",
    "\n",
    "prediction = output.argmax(dim = 1, keepdim = True).item()\n",
    "\n",
    "print(f'Prediction: {prediction}')\n",
    "\n",
    "image = data.squeeze(0).squeeze(0).cpu().numpy()\n",
    "\n",
    "plt.imshow(image, cmap = 'gray')\n",
    "\n",
    "plt.show()\n"
   ]
  },
  {
   "cell_type": "code",
   "execution_count": null,
   "id": "e6d9d044",
   "metadata": {},
   "outputs": [],
   "source": [
    "# written by Foroogh Behroozi"
   ]
  }
 ],
 "metadata": {
  "kernelspec": {
   "display_name": "Python 3 (ipykernel)",
   "language": "python",
   "name": "python3"
  },
  "language_info": {
   "codemirror_mode": {
    "name": "ipython",
    "version": 3
   },
   "file_extension": ".py",
   "mimetype": "text/x-python",
   "name": "python",
   "nbconvert_exporter": "python",
   "pygments_lexer": "ipython3",
   "version": "3.10.9"
  }
 },
 "nbformat": 4,
 "nbformat_minor": 5
}
